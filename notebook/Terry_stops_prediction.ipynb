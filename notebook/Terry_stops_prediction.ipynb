{
 "cells": [
  {
   "cell_type": "markdown",
   "id": "cd8f06ac-b0bd-48d0-9160-66f659564fe4",
   "metadata": {},
   "source": [
    "# PHASE 3 PROJECT\n",
    "# PREDICTING TERRY STOP OUTCOMES"
   ]
  },
  {
   "cell_type": "markdown",
   "id": "374c8142-a03b-44cb-8b18-86030397309f",
   "metadata": {},
   "source": [
    "# 1. Business Understanding"
   ]
  },
  {
   "cell_type": "markdown",
   "id": "0f394b80-e766-468d-9644-6feddee84ff5",
   "metadata": {},
   "source": [
    "A Terry stop is a police procedure that permits law enforcement officers to briefly detain an individual based on reasonable suspicion of criminal activity. Terry Stops are controversial because they give police a wider scope of authority or freedom to make decisions which may lead to wrongful arrests. If most stops don’t lead to arrests, it raises questions about whether they are fair or effective, a concern to policy makers and civil rights organizations."
   ]
  },
  {
   "cell_type": "markdown",
   "id": "75193e2a-f52f-465c-a9ab-8dacb7527630",
   "metadata": {},
   "source": [
    "## 1.1 OBJECTIVES\n"
   ]
  },
  {
   "cell_type": "markdown",
   "id": "e53493b1-5dcd-411b-8e8c-4d84aad3f5e4",
   "metadata": {},
   "source": [
    "## 1.1.1: main objective"
   ]
  },
  {
   "cell_type": "markdown",
   "id": "1fc9b173-0f28-45a8-a2b8-3f136b3fc8d6",
   "metadata": {},
   "source": [
    "To predict whether an arrest was made after a Terry Stop, based on other information from the dataset."
   ]
  },
  {
   "cell_type": "markdown",
   "id": "e2244fb6-ec3f-44ea-963b-47132bef5ed6",
   "metadata": {},
   "source": [
    "## 1.1.2: specific objectives"
   ]
  },
  {
   "cell_type": "markdown",
   "id": "ebe7965c-e6bc-4a09-93cd-e81731a57f6e",
   "metadata": {},
   "source": [
    "1. To Identify the key features that most strongly influence the likelihood of arrest after a stop.\n",
    "2. To compare multiple models to ensure the best results.\n",
    "3. To evaluate the relationship between frisks and arrests.\n",
    "4. To analyze the gender distribution of subject persons involved in Terry Stops.\n",
    "5. To examine the racial and ethnic distribution of persons involved in Terry Stops.\n",
    "6. To examine the racial and ethnic distribution of persons involved in Terry Stops that led to arrests."
   ]
  },
  {
   "cell_type": "markdown",
   "id": "421fbebe-e160-4296-9c97-859656339379",
   "metadata": {},
   "source": [
    "## 1.2: Research questions"
   ]
  },
  {
   "cell_type": "markdown",
   "id": "2e962206-2904-437e-b073-2fce0261a31c",
   "metadata": {},
   "source": [
    "1. What key factors most strongly influence the likelihood of arrest after a stop?\n",
    "2. What is the relationship between frisks and arrests?\n",
    "3. What is the gender distribution of persons involved in Terry Stops and does gender influence stop outcomes?\n",
    "4. What is the racial and ethnic distribution of persons involved in Terry Stops?\n",
    "\n"
   ]
  },
  {
   "cell_type": "markdown",
   "id": "55c38f22-b7a9-401b-a4ad-8ee065f9bfd0",
   "metadata": {},
   "source": [
    "## 1.3: Defining the metric for success"
   ]
  },
  {
   "cell_type": "markdown",
   "id": "abc0248e-d16b-476d-8140-f2ffd9b6bc9e",
   "metadata": {},
   "source": [
    "To build a model that can correctly predict whether a Terry stop resulted in an arrest."
   ]
  },
  {
   "cell_type": "markdown",
   "id": "afceaee1-07ba-4127-b0d3-725dd62a16e2",
   "metadata": {},
   "source": [
    "# 2. Data Understanding"
   ]
  },
  {
   "cell_type": "markdown",
   "id": "227ebb6b-e5af-49a6-b087-ca1e00657aa6",
   "metadata": {},
   "source": [
    "Our dataset is from Seattle city government where Each row is a unique record of a Terry Stop, as reported by the officer conducting the stop."
   ]
  },
  {
   "cell_type": "code",
   "execution_count": 1,
   "id": "0e133e09-cfc4-4864-97d8-26035b87aa30",
   "metadata": {},
   "outputs": [
    {
     "data": {
      "text/html": [
       "<div>\n",
       "<style scoped>\n",
       "    .dataframe tbody tr th:only-of-type {\n",
       "        vertical-align: middle;\n",
       "    }\n",
       "\n",
       "    .dataframe tbody tr th {\n",
       "        vertical-align: top;\n",
       "    }\n",
       "\n",
       "    .dataframe thead th {\n",
       "        text-align: right;\n",
       "    }\n",
       "</style>\n",
       "<table border=\"1\" class=\"dataframe\">\n",
       "  <thead>\n",
       "    <tr style=\"text-align: right;\">\n",
       "      <th></th>\n",
       "      <th>Subject Age Group</th>\n",
       "      <th>Subject ID</th>\n",
       "      <th>GO / SC Num</th>\n",
       "      <th>Terry Stop ID</th>\n",
       "      <th>Stop Resolution</th>\n",
       "      <th>Weapon Type</th>\n",
       "      <th>Officer ID</th>\n",
       "      <th>Officer YOB</th>\n",
       "      <th>Officer Gender</th>\n",
       "      <th>Officer Race</th>\n",
       "      <th>...</th>\n",
       "      <th>Reported Time</th>\n",
       "      <th>Initial Call Type</th>\n",
       "      <th>Final Call Type</th>\n",
       "      <th>Call Type</th>\n",
       "      <th>Officer Squad</th>\n",
       "      <th>Arrest Flag</th>\n",
       "      <th>Frisk Flag</th>\n",
       "      <th>Precinct</th>\n",
       "      <th>Sector</th>\n",
       "      <th>Beat</th>\n",
       "    </tr>\n",
       "  </thead>\n",
       "  <tbody>\n",
       "    <tr>\n",
       "      <th>0</th>\n",
       "      <td>46 - 55</td>\n",
       "      <td>-1</td>\n",
       "      <td>20180000275629</td>\n",
       "      <td>481899</td>\n",
       "      <td>Field Contact</td>\n",
       "      <td>NaN</td>\n",
       "      <td>8544</td>\n",
       "      <td>1993</td>\n",
       "      <td>Female</td>\n",
       "      <td>Hispanic</td>\n",
       "      <td>...</td>\n",
       "      <td>13:47:00.0000000</td>\n",
       "      <td>-</td>\n",
       "      <td>-</td>\n",
       "      <td>-</td>\n",
       "      <td>NORTH PCT 2ND WATCH - B/N RELIEF</td>\n",
       "      <td>N</td>\n",
       "      <td>N</td>\n",
       "      <td>West</td>\n",
       "      <td>Q</td>\n",
       "      <td>Q2</td>\n",
       "    </tr>\n",
       "    <tr>\n",
       "      <th>1</th>\n",
       "      <td>36 - 45</td>\n",
       "      <td>53986235598</td>\n",
       "      <td>20240000029589</td>\n",
       "      <td>53986202139</td>\n",
       "      <td>Field Contact</td>\n",
       "      <td>-</td>\n",
       "      <td>8723</td>\n",
       "      <td>1994</td>\n",
       "      <td>Male</td>\n",
       "      <td>White</td>\n",
       "      <td>...</td>\n",
       "      <td>02:50:52.0000000</td>\n",
       "      <td>SUSPICIOUS STOP - OFFICER INITIATED ONVIEW</td>\n",
       "      <td>DISTURBANCE - OTHER</td>\n",
       "      <td>ONVIEW</td>\n",
       "      <td>WEST PCT 3RD W - KING - PLATOON 1</td>\n",
       "      <td>N</td>\n",
       "      <td>N</td>\n",
       "      <td>West</td>\n",
       "      <td>D</td>\n",
       "      <td>D2</td>\n",
       "    </tr>\n",
       "    <tr>\n",
       "      <th>2</th>\n",
       "      <td>26 - 35</td>\n",
       "      <td>-1</td>\n",
       "      <td>20170000036835</td>\n",
       "      <td>234548</td>\n",
       "      <td>Offense Report</td>\n",
       "      <td>NaN</td>\n",
       "      <td>4852</td>\n",
       "      <td>1953</td>\n",
       "      <td>Male</td>\n",
       "      <td>Asian</td>\n",
       "      <td>...</td>\n",
       "      <td>18:36:00.0000000</td>\n",
       "      <td>DISTURBANCE</td>\n",
       "      <td>THEFT - SHOPLIFT</td>\n",
       "      <td>911</td>\n",
       "      <td>NORTH PCT 2ND W - LINCOLN - PLATOON 1</td>\n",
       "      <td>N</td>\n",
       "      <td>N</td>\n",
       "      <td>North</td>\n",
       "      <td>L</td>\n",
       "      <td>L3</td>\n",
       "    </tr>\n",
       "    <tr>\n",
       "      <th>3</th>\n",
       "      <td>18 - 25</td>\n",
       "      <td>-1</td>\n",
       "      <td>20180000271087</td>\n",
       "      <td>445585</td>\n",
       "      <td>Offense Report</td>\n",
       "      <td>NaN</td>\n",
       "      <td>8588</td>\n",
       "      <td>1986</td>\n",
       "      <td>Female</td>\n",
       "      <td>White</td>\n",
       "      <td>...</td>\n",
       "      <td>05:43:00.0000000</td>\n",
       "      <td>OBS WEAPN-IP/JO-GUN,DEADLY WPN (NO THRT/ASLT/D...</td>\n",
       "      <td>WEAPON, PERSON WITH - GUN</td>\n",
       "      <td>911</td>\n",
       "      <td>TRAINING - FIELD TRAINING SQUAD</td>\n",
       "      <td>N</td>\n",
       "      <td>Y</td>\n",
       "      <td>North</td>\n",
       "      <td>J</td>\n",
       "      <td>J1</td>\n",
       "    </tr>\n",
       "    <tr>\n",
       "      <th>4</th>\n",
       "      <td>18 - 25</td>\n",
       "      <td>-1</td>\n",
       "      <td>20150000002928</td>\n",
       "      <td>54115</td>\n",
       "      <td>Field Contact</td>\n",
       "      <td>NaN</td>\n",
       "      <td>7745</td>\n",
       "      <td>1988</td>\n",
       "      <td>Female</td>\n",
       "      <td>Declined to Answer</td>\n",
       "      <td>...</td>\n",
       "      <td>00:22:00.0000000</td>\n",
       "      <td>-</td>\n",
       "      <td>-</td>\n",
       "      <td>-</td>\n",
       "      <td>SOUTH PCT 3RD W - SAM - PLATOON 2</td>\n",
       "      <td>N</td>\n",
       "      <td>N</td>\n",
       "      <td>-</td>\n",
       "      <td>-</td>\n",
       "      <td>-</td>\n",
       "    </tr>\n",
       "  </tbody>\n",
       "</table>\n",
       "<p>5 rows × 23 columns</p>\n",
       "</div>"
      ],
      "text/plain": [
       "  Subject Age Group   Subject ID     GO / SC Num  Terry Stop ID  \\\n",
       "0           46 - 55           -1  20180000275629         481899   \n",
       "1           36 - 45  53986235598  20240000029589    53986202139   \n",
       "2           26 - 35           -1  20170000036835         234548   \n",
       "3           18 - 25           -1  20180000271087         445585   \n",
       "4           18 - 25           -1  20150000002928          54115   \n",
       "\n",
       "  Stop Resolution Weapon Type Officer ID  Officer YOB Officer Gender  \\\n",
       "0   Field Contact         NaN       8544         1993         Female   \n",
       "1   Field Contact           -       8723         1994           Male   \n",
       "2  Offense Report         NaN       4852         1953           Male   \n",
       "3  Offense Report         NaN       8588         1986         Female   \n",
       "4   Field Contact         NaN       7745         1988         Female   \n",
       "\n",
       "         Officer Race  ...     Reported Time  \\\n",
       "0            Hispanic  ...  13:47:00.0000000   \n",
       "1               White  ...  02:50:52.0000000   \n",
       "2               Asian  ...  18:36:00.0000000   \n",
       "3               White  ...  05:43:00.0000000   \n",
       "4  Declined to Answer  ...  00:22:00.0000000   \n",
       "\n",
       "                                   Initial Call Type  \\\n",
       "0                                                  -   \n",
       "1         SUSPICIOUS STOP - OFFICER INITIATED ONVIEW   \n",
       "2                                        DISTURBANCE   \n",
       "3  OBS WEAPN-IP/JO-GUN,DEADLY WPN (NO THRT/ASLT/D...   \n",
       "4                                                  -   \n",
       "\n",
       "             Final Call Type Call Type                          Officer Squad  \\\n",
       "0                          -         -       NORTH PCT 2ND WATCH - B/N RELIEF   \n",
       "1        DISTURBANCE - OTHER    ONVIEW      WEST PCT 3RD W - KING - PLATOON 1   \n",
       "2           THEFT - SHOPLIFT       911  NORTH PCT 2ND W - LINCOLN - PLATOON 1   \n",
       "3  WEAPON, PERSON WITH - GUN       911        TRAINING - FIELD TRAINING SQUAD   \n",
       "4                          -         -      SOUTH PCT 3RD W - SAM - PLATOON 2   \n",
       "\n",
       "  Arrest Flag Frisk Flag Precinct Sector Beat  \n",
       "0           N          N     West      Q   Q2  \n",
       "1           N          N     West      D   D2  \n",
       "2           N          N    North      L   L3  \n",
       "3           N          Y    North      J   J1  \n",
       "4           N          N        -      -    -  \n",
       "\n",
       "[5 rows x 23 columns]"
      ]
     },
     "execution_count": 1,
     "metadata": {},
     "output_type": "execute_result"
    }
   ],
   "source": [
    "import pandas as pd\n",
    "import numpy as np\n",
    "import matplotlib.pyplot as plt\n",
    "import seaborn as sns\n",
    "\n",
    "\n",
    "df = pd.read_csv('Terry_Stops_20250908.csv')\n",
    "df.head()"
   ]
  },
  {
   "cell_type": "code",
   "execution_count": 2,
   "id": "2f9f7b25-3e88-426a-bbe9-5d4a220b514e",
   "metadata": {},
   "outputs": [
    {
     "data": {
      "text/plain": [
       "Index(['Subject Age Group', 'Subject ID', 'GO / SC Num', 'Terry Stop ID',\n",
       "       'Stop Resolution', 'Weapon Type', 'Officer ID', 'Officer YOB',\n",
       "       'Officer Gender', 'Officer Race', 'Subject Perceived Race',\n",
       "       'Subject Perceived Gender', 'Reported Date', 'Reported Time',\n",
       "       'Initial Call Type', 'Final Call Type', 'Call Type', 'Officer Squad',\n",
       "       'Arrest Flag', 'Frisk Flag', 'Precinct', 'Sector', 'Beat'],\n",
       "      dtype='object')"
      ]
     },
     "execution_count": 2,
     "metadata": {},
     "output_type": "execute_result"
    }
   ],
   "source": [
    "df.columns"
   ]
  },
  {
   "cell_type": "code",
   "execution_count": 3,
   "id": "9910a657-7f9f-492b-b3d8-5b8982af2a5e",
   "metadata": {},
   "outputs": [
    {
     "data": {
      "text/plain": [
       "(64699, 23)"
      ]
     },
     "execution_count": 3,
     "metadata": {},
     "output_type": "execute_result"
    }
   ],
   "source": [
    "df.shape"
   ]
  },
  {
   "cell_type": "code",
   "execution_count": 4,
   "id": "c913ab68-4902-4202-97d0-6e3294ada5d4",
   "metadata": {},
   "outputs": [
    {
     "name": "stdout",
     "output_type": "stream",
     "text": [
      "<class 'pandas.core.frame.DataFrame'>\n",
      "RangeIndex: 64699 entries, 0 to 64698\n",
      "Data columns (total 23 columns):\n",
      " #   Column                    Non-Null Count  Dtype \n",
      "---  ------                    --------------  ----- \n",
      " 0   Subject Age Group         64699 non-null  object\n",
      " 1   Subject ID                64699 non-null  int64 \n",
      " 2   GO / SC Num               64699 non-null  int64 \n",
      " 3   Terry Stop ID             64699 non-null  int64 \n",
      " 4   Stop Resolution           64699 non-null  object\n",
      " 5   Weapon Type               32134 non-null  object\n",
      " 6   Officer ID                64699 non-null  object\n",
      " 7   Officer YOB               64699 non-null  int64 \n",
      " 8   Officer Gender            64699 non-null  object\n",
      " 9   Officer Race              64699 non-null  object\n",
      " 10  Subject Perceived Race    64699 non-null  object\n",
      " 11  Subject Perceived Gender  64699 non-null  object\n",
      " 12  Reported Date             64699 non-null  object\n",
      " 13  Reported Time             64699 non-null  object\n",
      " 14  Initial Call Type         64699 non-null  object\n",
      " 15  Final Call Type           64699 non-null  object\n",
      " 16  Call Type                 64699 non-null  object\n",
      " 17  Officer Squad             64133 non-null  object\n",
      " 18  Arrest Flag               64699 non-null  object\n",
      " 19  Frisk Flag                64699 non-null  object\n",
      " 20  Precinct                  64699 non-null  object\n",
      " 21  Sector                    64699 non-null  object\n",
      " 22  Beat                      64699 non-null  object\n",
      "dtypes: int64(4), object(19)\n",
      "memory usage: 11.4+ MB\n"
     ]
    }
   ],
   "source": [
    "df.info()"
   ]
  },
  {
   "cell_type": "markdown",
   "id": "9766a0c7-324f-4f07-aef5-dd4a0710c7ef",
   "metadata": {},
   "source": [
    "# 3. Data preparation"
   ]
  },
  {
   "cell_type": "markdown",
   "id": "e7af9848-fd1f-47d4-afdc-2aa7ad0266d9",
   "metadata": {},
   "source": [
    "## 3.1. Data cleaning"
   ]
  },
  {
   "cell_type": "code",
   "execution_count": 5,
   "id": "3dcf8e07-6e40-46bd-a518-b73c6ddaeb49",
   "metadata": {},
   "outputs": [
    {
     "data": {
      "text/plain": [
       "array([nan, '-', 'Knife/Cutting/Stabbing Instrument',\n",
       "       'Lethal Cutting Instrument', 'Club, Blackjack, Brass Knuckles',\n",
       "       'Firearm Other', 'Blunt Object/Striking Implement', 'Handgun',\n",
       "       'Mace/Pepper Spray', 'Shotgun', 'Firearm (unk type)',\n",
       "       'None/Not Applicable', 'Fire/Incendiary Device', 'Firearm',\n",
       "       'Other Firearm', 'Rifle', 'Club', 'Taser/Stun Gun',\n",
       "       'Automatic Handgun', 'Personal Weapons (hands, feet, etc.)',\n",
       "       'Blackjack', 'Poison', 'Brass Knuckles'], dtype=object)"
      ]
     },
     "execution_count": 5,
     "metadata": {},
     "output_type": "execute_result"
    }
   ],
   "source": [
    "# unique categories 'Weapon Type' column\n",
    "df['Weapon Type'].unique()"
   ]
  },
  {
   "cell_type": "code",
   "execution_count": 6,
   "id": "eaf42cae-5801-467b-8e21-aadcd9f45c89",
   "metadata": {},
   "outputs": [],
   "source": [
    "# filling null values with an existing category\n",
    "df['Weapon Type'] = df['Weapon Type'].fillna('None/Not Applicable')"
   ]
  },
  {
   "cell_type": "code",
   "execution_count": 7,
   "id": "43db2121-0b7f-4d7e-8c5c-508a14b4d5b4",
   "metadata": {},
   "outputs": [],
   "source": [
    "df['Weapon Type'] = df['Weapon Type'].replace('-', 'None/Not Applicable')"
   ]
  },
  {
   "cell_type": "code",
   "execution_count": 8,
   "id": "ef590dce-e991-444e-ac34-9159ed9dc5ec",
   "metadata": {},
   "outputs": [
    {
     "data": {
      "text/plain": [
       "0"
      ]
     },
     "execution_count": 8,
     "metadata": {},
     "output_type": "execute_result"
    }
   ],
   "source": [
    "# checking for null values\n",
    "df['Weapon Type'].isna().sum()"
   ]
  },
  {
   "cell_type": "code",
   "execution_count": 9,
   "id": "c2752ff2-3ef0-4e31-a068-c77ca1d0f9a8",
   "metadata": {},
   "outputs": [
    {
     "data": {
      "text/plain": [
       "Weapon Type\n",
       "None/Not Applicable                     60587\n",
       "Knife/Cutting/Stabbing Instrument        1491\n",
       "Lethal Cutting Instrument                1482\n",
       "Handgun                                   430\n",
       "Blunt Object/Striking Implement           199\n",
       "Firearm                                   131\n",
       "Firearm Other                             100\n",
       "Other Firearm                              85\n",
       "Mace/Pepper Spray                          64\n",
       "Club, Blackjack, Brass Knuckles            49\n",
       "Taser/Stun Gun                             20\n",
       "Firearm (unk type)                         15\n",
       "Fire/Incendiary Device                     13\n",
       "Rifle                                      11\n",
       "Club                                        9\n",
       "Shotgun                                     6\n",
       "Automatic Handgun                           2\n",
       "Personal Weapons (hands, feet, etc.)        2\n",
       "Blackjack                                   1\n",
       "Poison                                      1\n",
       "Brass Knuckles                              1\n",
       "Name: count, dtype: int64"
      ]
     },
     "execution_count": 9,
     "metadata": {},
     "output_type": "execute_result"
    }
   ],
   "source": [
    "df['Weapon Type'].value_counts()"
   ]
  },
  {
   "cell_type": "code",
   "execution_count": 10,
   "id": "02fd84b7-81d0-49dc-a28b-839d04e1d2fd",
   "metadata": {},
   "outputs": [
    {
     "name": "stdout",
     "output_type": "stream",
     "text": [
      "Weapon Type\n",
      "None             60587\n",
      "Knife/Cutting     2973\n",
      "Firearm            780\n",
      "Blunt Object       259\n",
      "Chemical            65\n",
      "Other               35\n",
      "Name: count, dtype: int64\n"
     ]
    }
   ],
   "source": [
    "# mapping dictionary for merging categories\n",
    "\n",
    "weapon_map = {\n",
    "    # Knives\n",
    "    \"Knife/Cutting/Stabbing Instrument\": \"Knife/Cutting\",\n",
    "    \"Lethal Cutting Instrument\": \"Knife/Cutting\",\n",
    "  \n",
    "    # Firearms (general/other)\n",
    "    \"Firearm\": \"Firearm\",\n",
    "    \"Firearm Other\": \"Firearm\",\n",
    "    \"Other Firearm\": \"Firearm\",\n",
    "    \"Firearm (unk type)\": \"Firearm\",\n",
    "    \"Rifle\": \"Firearm\",\n",
    "    \"Shotgun\": \"Firearm\",\n",
    "    \"Handgun\": \"Firearm\",\n",
    "    \"Automatic Handgun\": \"Firearm\",\n",
    "    \n",
    "    # Blunt objects\n",
    "    \"Blunt Object/Striking Implement\": \"Blunt Object\",\n",
    "    \"Club\": \"Blunt Object\",\n",
    "    \"Blackjack\": \"Blunt Object\",\n",
    "    \"Brass Knuckles\": \"Blunt Object\",\n",
    "    \"Club, Blackjack, Brass Knuckles\": \"Blunt Object\",\n",
    "    \n",
    "    # Chemicals\n",
    "    \"Mace/Pepper Spray\": \"Chemical\",\n",
    "    \"Poison\": \"Chemical\",\n",
    "    \n",
    "    # Other weapons\n",
    "    \"Taser/Stun Gun\": \"Other\",\n",
    "    \"Fire/Incendiary Device\": \"Other\",\n",
    "    \"Personal Weapons (hands, feet, etc.)\": \"Other\",\n",
    "\n",
    "    # None \n",
    "    \"None/Not Applicable\": \"None\"\n",
    "\n",
    "}\n",
    "\n",
    "# apply mapping\n",
    "df['Weapon Type'] = df['Weapon Type'].replace(weapon_map)\n",
    "\n",
    "# check results\n",
    "print(df['Weapon Type'].value_counts())"
   ]
  },
  {
   "cell_type": "code",
   "execution_count": 11,
   "id": "3cd7d261-1f65-45e4-b621-5aacf13189f1",
   "metadata": {},
   "outputs": [],
   "source": [
    "# dropping rows with null values\n",
    "df = df.dropna(subset=['Officer Squad'])"
   ]
  },
  {
   "cell_type": "code",
   "execution_count": 12,
   "id": "defb253c-51f3-4d05-9ea5-d13f27f5348c",
   "metadata": {},
   "outputs": [
    {
     "data": {
      "text/plain": [
       "0"
      ]
     },
     "execution_count": 12,
     "metadata": {},
     "output_type": "execute_result"
    }
   ],
   "source": [
    "df['Officer Squad'].isna().sum()"
   ]
  },
  {
   "cell_type": "code",
   "execution_count": 13,
   "id": "5f958348-122d-4424-b2a0-99696c36556c",
   "metadata": {},
   "outputs": [],
   "source": [
    "# replacing the '-' placeholder with Nan\n",
    "df = df.replace('-', np.nan)"
   ]
  },
  {
   "cell_type": "code",
   "execution_count": 14,
   "id": "682959a2-cb8a-47c5-a76b-cf57ca59c1db",
   "metadata": {},
   "outputs": [
    {
     "data": {
      "text/plain": [
       "Subject Age Group            3.653345\n",
       "Subject ID                   0.000000\n",
       "GO / SC Num                  0.000000\n",
       "Terry Stop ID                0.000000\n",
       "Stop Resolution              0.000000\n",
       "Weapon Type                  0.000000\n",
       "Officer ID                   0.000000\n",
       "Officer YOB                  0.000000\n",
       "Officer Gender               0.000000\n",
       "Officer Race                 0.000000\n",
       "Subject Perceived Race       2.805108\n",
       "Subject Perceived Gender     0.372663\n",
       "Reported Date                0.000000\n",
       "Reported Time                0.000000\n",
       "Initial Call Type           20.872250\n",
       "Final Call Type             20.872250\n",
       "Call Type                   20.872250\n",
       "Officer Squad                0.000000\n",
       "Arrest Flag                  0.000000\n",
       "Frisk Flag                   0.734411\n",
       "Precinct                    16.654452\n",
       "Sector                      16.886782\n",
       "Beat                        16.877427\n",
       "dtype: float64"
      ]
     },
     "execution_count": 14,
     "metadata": {},
     "output_type": "execute_result"
    }
   ],
   "source": [
    "# percentage of null values in each column\n",
    "df.isna().sum()*100/len(df)"
   ]
  },
  {
   "cell_type": "code",
   "execution_count": 15,
   "id": "457e20da-a292-4db1-bc06-7423806c323d",
   "metadata": {},
   "outputs": [
    {
     "data": {
      "text/plain": [
       "Subject Age Group\n",
       "26 - 35         21394\n",
       "36 - 45         14578\n",
       "18 - 25         11945\n",
       "46 - 55          8117\n",
       "56 and Above     3392\n",
       "1 - 17           2364\n",
       "Name: count, dtype: int64"
      ]
     },
     "execution_count": 15,
     "metadata": {},
     "output_type": "execute_result"
    }
   ],
   "source": [
    "df['Subject Age Group'].value_counts()"
   ]
  },
  {
   "cell_type": "code",
   "execution_count": 16,
   "id": "6fa3b3b8-9eec-4d27-b8a8-b6c873d2e268",
   "metadata": {},
   "outputs": [],
   "source": [
    "# imputing the null values with the mode\n",
    "df['Subject Age Group'] = df['Subject Age Group'].fillna(df['Subject Age Group'].mode()[0])"
   ]
  },
  {
   "cell_type": "markdown",
   "id": "c9e74fe6-ff0c-41ed-ad8b-84117c5bb36b",
   "metadata": {},
   "source": [
    "In this case imputing with the mode keeps the distribution of categories close to the original data which is better than shrinking the dataset unnecessarily by dropping rows."
   ]
  },
  {
   "cell_type": "code",
   "execution_count": 17,
   "id": "ef8065c8-5e2d-49e1-89c2-53f21a2fe0b9",
   "metadata": {},
   "outputs": [
    {
     "data": {
      "text/plain": [
       "0"
      ]
     },
     "execution_count": 17,
     "metadata": {},
     "output_type": "execute_result"
    }
   ],
   "source": [
    "# checking results\n",
    "df['Subject Age Group'].isna().sum()"
   ]
  },
  {
   "cell_type": "code",
   "execution_count": 18,
   "id": "889f5d87-23a4-4f65-b1d9-0b79cba9ad7a",
   "metadata": {},
   "outputs": [
    {
     "data": {
      "text/plain": [
       "Subject Perceived Race\n",
       "White                                        31355\n",
       "Black or African American                    19327\n",
       "Unknown                                       4901\n",
       "Asian                                         2206\n",
       "American Indian or Alaska Native              1733\n",
       "Hispanic                                      1674\n",
       "Multi-Racial                                   802\n",
       "Native Hawaiian or Other Pacific Islander      184\n",
       "Other                                          151\n",
       "MULTIPLE SUBJECTS                                1\n",
       "Name: count, dtype: int64"
      ]
     },
     "execution_count": 18,
     "metadata": {},
     "output_type": "execute_result"
    }
   ],
   "source": [
    "# extracting the unique values in the column\n",
    "df['Subject Perceived Race'].value_counts()"
   ]
  },
  {
   "cell_type": "code",
   "execution_count": 19,
   "id": "9ea78910-3e07-449c-a19c-76ed871549dd",
   "metadata": {},
   "outputs": [],
   "source": [
    "# filling null values with an existing category\n",
    "df['Subject Perceived Race'] = df['Subject Perceived Race'].fillna('Unknown')"
   ]
  },
  {
   "cell_type": "code",
   "execution_count": 20,
   "id": "0dc48192-8b51-4e73-a13e-0edde117db40",
   "metadata": {},
   "outputs": [],
   "source": [
    "df['Subject Perceived Race'] = df['Subject Perceived Race'].replace('MULTIPLE SUBJECTS', 'Other')"
   ]
  },
  {
   "cell_type": "code",
   "execution_count": 21,
   "id": "8491695d-3dc7-4473-b49f-f2104fa19103",
   "metadata": {},
   "outputs": [
    {
     "data": {
      "text/plain": [
       "0"
      ]
     },
     "execution_count": 21,
     "metadata": {},
     "output_type": "execute_result"
    }
   ],
   "source": [
    "# checking results\n",
    "df['Subject Perceived Race'].isna().sum()"
   ]
  },
  {
   "cell_type": "markdown",
   "id": "9d6997ce-8818-465c-aa53-8ca1b22be6d3",
   "metadata": {},
   "source": [
    "In this case imputing with the 'Unknown' category makes the most sense since we do not lose any data and we preserve information about missingness."
   ]
  },
  {
   "cell_type": "code",
   "execution_count": 22,
   "id": "468bf7eb-830c-4fe3-9d32-a05525f0d47a",
   "metadata": {},
   "outputs": [
    {
     "data": {
      "text/plain": [
       "Subject Perceived Gender\n",
       "Male                                                         50616\n",
       "Female                                                       12776\n",
       "Unable to Determine                                            320\n",
       "Unknown                                                        117\n",
       "Gender Diverse (gender non-conforming and/or transgender)       64\n",
       "MULTIPLE SUBJECTS                                                1\n",
       "Name: count, dtype: int64"
      ]
     },
     "execution_count": 22,
     "metadata": {},
     "output_type": "execute_result"
    }
   ],
   "source": [
    "df['Subject Perceived Gender'].value_counts()"
   ]
  },
  {
   "cell_type": "code",
   "execution_count": 23,
   "id": "4d6048d1-9051-442c-94fb-5666564cef71",
   "metadata": {},
   "outputs": [],
   "source": [
    "# filling null values with an existing category\n",
    "df['Subject Perceived Gender'] = df['Subject Perceived Gender'].fillna('Unknown') "
   ]
  },
  {
   "cell_type": "code",
   "execution_count": 24,
   "id": "c733d640-6e42-435e-a625-0cb46929d68d",
   "metadata": {},
   "outputs": [
    {
     "data": {
      "text/plain": [
       "0"
      ]
     },
     "execution_count": 24,
     "metadata": {},
     "output_type": "execute_result"
    }
   ],
   "source": [
    "# checking results\n",
    "df['Subject Perceived Gender'].isna().sum()"
   ]
  },
  {
   "cell_type": "markdown",
   "id": "2677df50-bc21-4e39-a070-b3bec8a86db3",
   "metadata": {},
   "source": [
    "In this case imputing with the 'Unknown' category makes the most sense since we do not lose any data and we preserve information about missingness."
   ]
  },
  {
   "cell_type": "code",
   "execution_count": 25,
   "id": "077c281d-d142-4516-87b2-781826f36c60",
   "metadata": {},
   "outputs": [
    {
     "data": {
      "text/plain": [
       "Call Type\n",
       "911                              30333\n",
       "ONVIEW                           15570\n",
       "TELEPHONE OTHER, NOT 911          4275\n",
       "ALARM CALL (NOT POLICE ALARM)      537\n",
       "TEXT MESSAGE                        30\n",
       "SCHEDULED EVENT (RECURRING)          1\n",
       "HISTORY CALL (RETRO)                 1\n",
       "Name: count, dtype: int64"
      ]
     },
     "execution_count": 25,
     "metadata": {},
     "output_type": "execute_result"
    }
   ],
   "source": [
    "# extracting the unique values in the column\n",
    "df['Call Type'].value_counts()"
   ]
  },
  {
   "cell_type": "code",
   "execution_count": 26,
   "id": "143e55b2-14a2-41a4-8489-00d045614ad0",
   "metadata": {},
   "outputs": [],
   "source": [
    "# filling null values with 'Unknown' category\n",
    "df['Call Type'] = df['Call Type'].fillna('UNKNOWN') "
   ]
  },
  {
   "cell_type": "code",
   "execution_count": 27,
   "id": "ff9c6b4f-32e5-44a1-8e8f-632b266b25ab",
   "metadata": {},
   "outputs": [
    {
     "data": {
      "text/plain": [
       "0"
      ]
     },
     "execution_count": 27,
     "metadata": {},
     "output_type": "execute_result"
    }
   ],
   "source": [
    "# checking the results\n",
    "df['Call Type'].isna().sum()"
   ]
  },
  {
   "cell_type": "code",
   "execution_count": null,
   "id": "62bfd849-a730-495f-ac52-88418f04480b",
   "metadata": {},
   "outputs": [],
   "source": []
  },
  {
   "cell_type": "code",
   "execution_count": 28,
   "id": "2000a954-dc7a-4b75-9f2f-423fb30507fd",
   "metadata": {},
   "outputs": [
    {
     "data": {
      "text/plain": [
       "Frisk Flag\n",
       "N    48081\n",
       "Y    15581\n",
       "Name: count, dtype: int64"
      ]
     },
     "execution_count": 28,
     "metadata": {},
     "output_type": "execute_result"
    }
   ],
   "source": [
    "# extracting the unique values in the column\n",
    "df['Frisk Flag'].value_counts()"
   ]
  },
  {
   "cell_type": "code",
   "execution_count": 29,
   "id": "eaf10d8c-ffad-4e9d-bce3-d3e5ab2ef35a",
   "metadata": {},
   "outputs": [],
   "source": [
    "# filling null values with the mode\n",
    "df['Frisk Flag'] = df['Frisk Flag'].fillna(df['Frisk Flag'].mode()[0])"
   ]
  },
  {
   "cell_type": "code",
   "execution_count": 30,
   "id": "8864cc00-1336-460a-b981-76fc056228af",
   "metadata": {},
   "outputs": [
    {
     "data": {
      "text/plain": [
       "Precinct\n",
       "West         18256\n",
       "North        13434\n",
       "East          8660\n",
       "South         7800\n",
       "Southwest     4962\n",
       "Unknown        198\n",
       "OOJ            120\n",
       "FK ERROR        22\n",
       "Name: count, dtype: int64"
      ]
     },
     "execution_count": 30,
     "metadata": {},
     "output_type": "execute_result"
    }
   ],
   "source": [
    "# extracting the unique values in the column\n",
    "df['Precinct'].value_counts()"
   ]
  },
  {
   "cell_type": "code",
   "execution_count": 31,
   "id": "93b00f85-019c-438c-89ab-5c85e68c2e4d",
   "metadata": {},
   "outputs": [],
   "source": [
    "# filling null values with 'Unknown' category\n",
    "df['Precinct'] = df['Precinct'].fillna('Unknown')"
   ]
  },
  {
   "cell_type": "markdown",
   "id": "28e68547-ec18-447a-9583-0c5ace0fa270",
   "metadata": {},
   "source": [
    "In this case imputing with the 'Unknown' category makes the most sense since we do not lose any data and we preserve information about missingness."
   ]
  },
  {
   "cell_type": "code",
   "execution_count": 32,
   "id": "b18e156f-a798-44bd-a883-8a62f110fa51",
   "metadata": {},
   "outputs": [
    {
     "data": {
      "text/plain": [
       "0"
      ]
     },
     "execution_count": 32,
     "metadata": {},
     "output_type": "execute_result"
    }
   ],
   "source": [
    "# checking the results\n",
    "df['Precinct'].isna().sum()"
   ]
  },
  {
   "cell_type": "code",
   "execution_count": null,
   "id": "14406792-9fff-47b3-bb33-0df2a1b25e28",
   "metadata": {},
   "outputs": [],
   "source": []
  },
  {
   "cell_type": "code",
   "execution_count": 33,
   "id": "1140d5d3-b75b-4c62-8eff-a238c34c234b",
   "metadata": {},
   "outputs": [
    {
     "data": {
      "text/plain": [
       "Subject Age Group               0\n",
       "Subject ID                      0\n",
       "GO / SC Num                     0\n",
       "Terry Stop ID                   0\n",
       "Stop Resolution                 0\n",
       "Weapon Type                     0\n",
       "Officer ID                      0\n",
       "Officer YOB                     0\n",
       "Officer Gender                  0\n",
       "Officer Race                    0\n",
       "Subject Perceived Race          0\n",
       "Subject Perceived Gender        0\n",
       "Reported Date                   0\n",
       "Reported Time                   0\n",
       "Initial Call Type           13386\n",
       "Final Call Type             13386\n",
       "Call Type                       0\n",
       "Officer Squad                   0\n",
       "Arrest Flag                     0\n",
       "Frisk Flag                      0\n",
       "Precinct                        0\n",
       "Sector                      10830\n",
       "Beat                        10824\n",
       "dtype: int64"
      ]
     },
     "execution_count": 33,
     "metadata": {},
     "output_type": "execute_result"
    }
   ],
   "source": [
    "df.isna().sum()"
   ]
  },
  {
   "cell_type": "code",
   "execution_count": 34,
   "id": "ec0bd05a-2eba-4a29-a55c-cca8dbd132a0",
   "metadata": {},
   "outputs": [],
   "source": [
    "# dropping the unnecesary columns\n",
    "df = df.drop(columns = ['Subject ID', 'GO / SC Num', 'Terry Stop ID', 'Officer ID', 'Officer YOB', 'Beat', 'Sector', 'Reported Date', 'Reported Time', 'Initial Call Type', 'Final Call Type', 'Officer Squad'])"
   ]
  },
  {
   "cell_type": "code",
   "execution_count": 35,
   "id": "277c329f-d419-45b3-bc37-3fdcd614c4ae",
   "metadata": {},
   "outputs": [
    {
     "data": {
      "text/html": [
       "<div>\n",
       "<style scoped>\n",
       "    .dataframe tbody tr th:only-of-type {\n",
       "        vertical-align: middle;\n",
       "    }\n",
       "\n",
       "    .dataframe tbody tr th {\n",
       "        vertical-align: top;\n",
       "    }\n",
       "\n",
       "    .dataframe thead th {\n",
       "        text-align: right;\n",
       "    }\n",
       "</style>\n",
       "<table border=\"1\" class=\"dataframe\">\n",
       "  <thead>\n",
       "    <tr style=\"text-align: right;\">\n",
       "      <th></th>\n",
       "      <th>Subject Age Group</th>\n",
       "      <th>Stop Resolution</th>\n",
       "      <th>Weapon Type</th>\n",
       "      <th>Officer Gender</th>\n",
       "      <th>Officer Race</th>\n",
       "      <th>Subject Perceived Race</th>\n",
       "      <th>Subject Perceived Gender</th>\n",
       "      <th>Call Type</th>\n",
       "      <th>Arrest Flag</th>\n",
       "      <th>Frisk Flag</th>\n",
       "      <th>Precinct</th>\n",
       "    </tr>\n",
       "  </thead>\n",
       "  <tbody>\n",
       "    <tr>\n",
       "      <th>0</th>\n",
       "      <td>46 - 55</td>\n",
       "      <td>Field Contact</td>\n",
       "      <td>None</td>\n",
       "      <td>Female</td>\n",
       "      <td>Hispanic</td>\n",
       "      <td>White</td>\n",
       "      <td>Male</td>\n",
       "      <td>UNKNOWN</td>\n",
       "      <td>N</td>\n",
       "      <td>N</td>\n",
       "      <td>West</td>\n",
       "    </tr>\n",
       "    <tr>\n",
       "      <th>1</th>\n",
       "      <td>36 - 45</td>\n",
       "      <td>Field Contact</td>\n",
       "      <td>None</td>\n",
       "      <td>Male</td>\n",
       "      <td>White</td>\n",
       "      <td>Black or African American</td>\n",
       "      <td>Male</td>\n",
       "      <td>ONVIEW</td>\n",
       "      <td>N</td>\n",
       "      <td>N</td>\n",
       "      <td>West</td>\n",
       "    </tr>\n",
       "    <tr>\n",
       "      <th>2</th>\n",
       "      <td>26 - 35</td>\n",
       "      <td>Offense Report</td>\n",
       "      <td>None</td>\n",
       "      <td>Male</td>\n",
       "      <td>Asian</td>\n",
       "      <td>White</td>\n",
       "      <td>Male</td>\n",
       "      <td>911</td>\n",
       "      <td>N</td>\n",
       "      <td>N</td>\n",
       "      <td>North</td>\n",
       "    </tr>\n",
       "    <tr>\n",
       "      <th>3</th>\n",
       "      <td>18 - 25</td>\n",
       "      <td>Offense Report</td>\n",
       "      <td>None</td>\n",
       "      <td>Female</td>\n",
       "      <td>White</td>\n",
       "      <td>Black or African American</td>\n",
       "      <td>Male</td>\n",
       "      <td>911</td>\n",
       "      <td>N</td>\n",
       "      <td>Y</td>\n",
       "      <td>North</td>\n",
       "    </tr>\n",
       "    <tr>\n",
       "      <th>4</th>\n",
       "      <td>18 - 25</td>\n",
       "      <td>Field Contact</td>\n",
       "      <td>None</td>\n",
       "      <td>Female</td>\n",
       "      <td>Declined to Answer</td>\n",
       "      <td>Black or African American</td>\n",
       "      <td>Female</td>\n",
       "      <td>UNKNOWN</td>\n",
       "      <td>N</td>\n",
       "      <td>N</td>\n",
       "      <td>Unknown</td>\n",
       "    </tr>\n",
       "  </tbody>\n",
       "</table>\n",
       "</div>"
      ],
      "text/plain": [
       "  Subject Age Group Stop Resolution Weapon Type Officer Gender  \\\n",
       "0           46 - 55   Field Contact        None         Female   \n",
       "1           36 - 45   Field Contact        None           Male   \n",
       "2           26 - 35  Offense Report        None           Male   \n",
       "3           18 - 25  Offense Report        None         Female   \n",
       "4           18 - 25   Field Contact        None         Female   \n",
       "\n",
       "         Officer Race     Subject Perceived Race Subject Perceived Gender  \\\n",
       "0            Hispanic                      White                     Male   \n",
       "1               White  Black or African American                     Male   \n",
       "2               Asian                      White                     Male   \n",
       "3               White  Black or African American                     Male   \n",
       "4  Declined to Answer  Black or African American                   Female   \n",
       "\n",
       "  Call Type Arrest Flag Frisk Flag Precinct  \n",
       "0   UNKNOWN           N          N     West  \n",
       "1    ONVIEW           N          N     West  \n",
       "2       911           N          N    North  \n",
       "3       911           N          Y    North  \n",
       "4   UNKNOWN           N          N  Unknown  "
      ]
     },
     "execution_count": 35,
     "metadata": {},
     "output_type": "execute_result"
    }
   ],
   "source": [
    "df.head()"
   ]
  },
  {
   "cell_type": "markdown",
   "id": "38dfe1ed-8208-4098-8a02-9dc5fbce508c",
   "metadata": {},
   "source": [
    "## EDA"
   ]
  },
  {
   "cell_type": "markdown",
   "id": "ecd83832-e973-4ee9-a8d8-73cb55f631cf",
   "metadata": {},
   "source": [
    "## Univariate"
   ]
  },
  {
   "cell_type": "code",
   "execution_count": 36,
   "id": "0e9b8364-f512-433f-95f6-377030d320ae",
   "metadata": {},
   "outputs": [
    {
     "data": {
      "text/plain": [
       "<Axes: xlabel='Arrest Flag', ylabel='count'>"
      ]
     },
     "execution_count": 36,
     "metadata": {},
     "output_type": "execute_result"
    },
    {
     "data": {
      "image/png": "[encoded data removed]",
      "text/plain": [
       "<Figure size 640x480 with 1 Axes>"
      ]
     },
     "metadata": {},
     "output_type": "display_data"
    }
   ],
   "source": [
    "# countplot for the target variable\n",
    "sns.countplot(x='Arrest Flag', data=df)\n"
   ]
  },
  {
   "cell_type": "code",
   "execution_count": 37,
   "id": "02572bef-93f0-43f2-bf2d-f3d54a3ae2a1",
   "metadata": {},
   "outputs": [
    {
     "data": {
      "text/plain": [
       "Arrest Flag\n",
       "N    56833\n",
       "Y     7300\n",
       "Name: count, dtype: int64"
      ]
     },
     "execution_count": 37,
     "metadata": {},
     "output_type": "execute_result"
    }
   ],
   "source": [
    "df['Arrest Flag'].value_counts()"
   ]
  },
  {
   "cell_type": "markdown",
   "id": "34f34797-375c-401c-94a2-5fc468bb8ada",
   "metadata": {},
   "source": [
    "No has 56833, which is 88% of the total, while Yes has 7300 which is 12%. This indicates there is class imbalance."
   ]
  },
  {
   "cell_type": "code",
   "execution_count": 38,
   "id": "f650cd5a-ed2e-415e-a445-b5950617f360",
   "metadata": {},
   "outputs": [
    {
     "data": {
      "text/plain": [
       "<Axes: xlabel='Frisk Flag', ylabel='count'>"
      ]
     },
     "execution_count": 38,
     "metadata": {},
     "output_type": "execute_result"
    },
    {
     "data": {
      "image/png": "[encoded data removed]",
      "text/plain": [
       "<Figure size 640x480 with 1 Axes>"
      ]
     },
     "metadata": {},
     "output_type": "display_data"
    }
   ],
   "source": [
    "# countplot for the Frisk Flag variable\n",
    "sns.countplot(x='Frisk Flag', data=df)"
   ]
  },
  {
   "cell_type": "code",
   "execution_count": 39,
   "id": "37e6eb1f-4d8e-4e2e-b332-77140c3c7920",
   "metadata": {},
   "outputs": [
    {
     "data": {
      "text/plain": [
       "Frisk Flag\n",
       "N    48552\n",
       "Y    15581\n",
       "Name: count, dtype: int64"
      ]
     },
     "execution_count": 39,
     "metadata": {},
     "output_type": "execute_result"
    }
   ],
   "source": [
    "df['Frisk Flag'].value_counts()"
   ]
  },
  {
   "cell_type": "markdown",
   "id": "cc7d305b-bf02-4040-a0af-e4f850b6a8ff",
   "metadata": {},
   "source": [
    "No has 48552, which is 76% of the total, while Yes has 15581 which is 24%."
   ]
  },
  {
   "cell_type": "code",
   "execution_count": 40,
   "id": "3edfe4d0-05a8-4f33-99ea-47a8af2dd6ac",
   "metadata": {},
   "outputs": [
    {
     "data": {
      "text/plain": [
       "([0, 1, 2, 3, 4, 5],\n",
       " [Text(0, 0, 'None'),\n",
       "  Text(1, 0, 'Knife/Cutting'),\n",
       "  Text(2, 0, 'Blunt Object'),\n",
       "  Text(3, 0, 'Firearm'),\n",
       "  Text(4, 0, 'Chemical'),\n",
       "  Text(5, 0, 'Other')])"
      ]
     },
     "execution_count": 40,
     "metadata": {},
     "output_type": "execute_result"
    },
    {
     "data": {
      "image/png": "[encoded data removed]",
      "text/plain": [
       "<Figure size 640x480 with 1 Axes>"
      ]
     },
     "metadata": {},
     "output_type": "display_data"
    }
   ],
   "source": [
    "sns.countplot(x='Weapon Type', data=df)\n",
    "plt.xticks(rotation=45)"
   ]
  },
  {
   "cell_type": "code",
   "execution_count": null,
   "id": "337f9392-c7f5-42e0-80f3-ebbe7dbd5a7e",
   "metadata": {},
   "outputs": [],
   "source": []
  },
  {
   "cell_type": "code",
   "execution_count": 41,
   "id": "849ddac2-3990-409f-a4d6-be50fb9cbfd2",
   "metadata": {},
   "outputs": [
    {
     "data": {
      "text/plain": [
       "([0, 1, 2, 3, 4, 5],\n",
       " [Text(0, 0, '46 - 55'),\n",
       "  Text(1, 0, '36 - 45'),\n",
       "  Text(2, 0, '26 - 35'),\n",
       "  Text(3, 0, '18 - 25'),\n",
       "  Text(4, 0, '56 and Above'),\n",
       "  Text(5, 0, '1 - 17')])"
      ]
     },
     "execution_count": 41,
     "metadata": {},
     "output_type": "execute_result"
    },
    {
     "data": {
      "image/png": "[encoded data removed]",
      "text/plain": [
       "<Figure size 640x480 with 1 Axes>"
      ]
     },
     "metadata": {},
     "output_type": "display_data"
    }
   ],
   "source": [
    "sns.countplot(x='Subject Age Group', data=df)\n",
    "plt.xticks(rotation=45)"
   ]
  },
  {
   "cell_type": "markdown",
   "id": "c4dec5a9-266d-4ed9-88e8-5f8726ffae62",
   "metadata": {},
   "source": []
  },
  {
   "cell_type": "code",
   "execution_count": 42,
   "id": "58a4b221-6160-41e0-a6c6-be686c3ba679",
   "metadata": {},
   "outputs": [
    {
     "data": {
      "text/plain": [
       "<Axes: xlabel='Subject Perceived Race'>"
      ]
     },
     "execution_count": 42,
     "metadata": {},
     "output_type": "execute_result"
    },
    {
     "data": {
      "image/png": "[encoded data removed]",
      "text/plain": [
       "<Figure size 640x480 with 1 Axes>"
      ]
     },
     "metadata": {},
     "output_type": "display_data"
    }
   ],
   "source": [
    "\n",
    "df['Subject Perceived Race'].value_counts().plot(kind='bar')"
   ]
  },
  {
   "cell_type": "markdown",
   "id": "ef4af015-cdb7-4954-a45d-014ae3228f08",
   "metadata": {},
   "source": []
  },
  {
   "cell_type": "code",
   "execution_count": 43,
   "id": "6ec04228-9151-487f-af29-f694439265c4",
   "metadata": {},
   "outputs": [
    {
     "data": {
      "text/plain": [
       "<Axes: xlabel='Officer Race'>"
      ]
     },
     "execution_count": 43,
     "metadata": {},
     "output_type": "execute_result"
    },
    {
     "data": {
      "image/png": "[encoded data removed]",
      "text/plain": [
       "<Figure size 640x480 with 1 Axes>"
      ]
     },
     "metadata": {},
     "output_type": "display_data"
    }
   ],
   "source": [
    "df['Officer Race'].value_counts().plot(kind='bar')\n"
   ]
  },
  {
   "cell_type": "markdown",
   "id": "01a80f73-7641-4bb5-ab4a-2966557e75c5",
   "metadata": {},
   "source": []
  },
  {
   "cell_type": "markdown",
   "id": "11e2f720-92e6-4994-8519-15e1873448a3",
   "metadata": {},
   "source": [
    "## Bivariate"
   ]
  },
  {
   "cell_type": "code",
   "execution_count": 44,
   "id": "98bc9c75-6c88-4782-986e-de2f8b079874",
   "metadata": {},
   "outputs": [
    {
     "data": {
      "text/plain": [
       "<Axes: xlabel='Frisk Flag', ylabel='count'>"
      ]
     },
     "execution_count": 44,
     "metadata": {},
     "output_type": "execute_result"
    },
    {
     "data": {
      "image/png": "[encoded data removed]",
      "text/plain": [
       "<Figure size 640x480 with 1 Axes>"
      ]
     },
     "metadata": {},
     "output_type": "display_data"
    }
   ],
   "source": [
    "# countplot for 'Frisk Flag' and 'Arrest Flag'\n",
    "sns.countplot(x ='Frisk Flag',hue= 'Arrest Flag', data=df)"
   ]
  },
  {
   "cell_type": "markdown",
   "id": "f665429d-a7de-43d1-83fe-3a4cc2ff5acf",
   "metadata": {},
   "source": []
  },
  {
   "cell_type": "code",
   "execution_count": 45,
   "id": "339b4a51-067d-423c-9cf1-9b17cac2ab38",
   "metadata": {},
   "outputs": [
    {
     "data": {
      "text/plain": [
       "<Axes: xlabel='Subject Perceived Race'>"
      ]
     },
     "execution_count": 45,
     "metadata": {},
     "output_type": "execute_result"
    },
    {
     "data": {
      "image/png": "[encoded data removed]",
      "text/plain": [
       "<Figure size 640x480 with 1 Axes>"
      ]
     },
     "metadata": {},
     "output_type": "display_data"
    }
   ],
   "source": [
    "df.groupby(['Subject Perceived Race', 'Arrest Flag']).size().unstack().plot(kind='bar', stacked=True)\n"
   ]
  },
  {
   "cell_type": "code",
   "execution_count": 46,
   "id": "5bfbd44d-94ff-4459-a304-d9878083ea14",
   "metadata": {},
   "outputs": [
    {
     "data": {
      "text/plain": [
       "Subject Perceived Race                     Arrest Flag\n",
       "American Indian or Alaska Native           N               1538\n",
       "                                           Y                195\n",
       "Asian                                      N               1903\n",
       "                                           Y                303\n",
       "Black or African American                  N              16775\n",
       "                                           Y               2552\n",
       "Hispanic                                   N               1674\n",
       "Multi-Racial                               N                802\n",
       "Native Hawaiian or Other Pacific Islander  N                137\n",
       "                                           Y                 47\n",
       "Other                                      N                152\n",
       "Unknown                                    N               5976\n",
       "                                           Y                724\n",
       "White                                      N              27876\n",
       "                                           Y               3479\n",
       "dtype: int64"
      ]
     },
     "execution_count": 46,
     "metadata": {},
     "output_type": "execute_result"
    }
   ],
   "source": [
    "df.groupby(['Subject Perceived Race', 'Arrest Flag']).size()"
   ]
  },
  {
   "cell_type": "markdown",
   "id": "a06f6f19-eaec-437b-86b1-940b4a08887e",
   "metadata": {},
   "source": [
    "Terry stops involving Black or African American subject persons lead to arrest 13% of the time which is the highest among all races."
   ]
  },
  {
   "cell_type": "code",
   "execution_count": 47,
   "id": "6f0c309a-8bad-43c1-b6cd-e47a3dc0bdfa",
   "metadata": {},
   "outputs": [
    {
     "data": {
      "text/plain": [
       "<Axes: xlabel='Subject Age Group'>"
      ]
     },
     "execution_count": 47,
     "metadata": {},
     "output_type": "execute_result"
    },
    {
     "data": {
      "image/png": "[encoded data removed]",
      "text/plain": [
       "<Figure size 640x480 with 1 Axes>"
      ]
     },
     "metadata": {},
     "output_type": "display_data"
    }
   ],
   "source": [
    "df.groupby(['Subject Age Group', 'Arrest Flag']).size().unstack().plot(kind='bar', stacked=True)"
   ]
  },
  {
   "cell_type": "code",
   "execution_count": 48,
   "id": "d0201597-5dd8-4ecc-a767-81e4ffb4a22c",
   "metadata": {},
   "outputs": [
    {
     "data": {
      "text/plain": [
       "Subject Age Group  Arrest Flag\n",
       "1 - 17             N               2204\n",
       "                   Y                160\n",
       "18 - 25            N              10757\n",
       "                   Y               1188\n",
       "26 - 35            N              21070\n",
       "                   Y               2667\n",
       "36 - 45            N              12624\n",
       "                   Y               1954\n",
       "46 - 55            N               7191\n",
       "                   Y                926\n",
       "56 and Above       N               2987\n",
       "                   Y                405\n",
       "dtype: int64"
      ]
     },
     "execution_count": 48,
     "metadata": {},
     "output_type": "execute_result"
    }
   ],
   "source": [
    "df.groupby(['Subject Age Group', 'Arrest Flag']).size()"
   ]
  },
  {
   "cell_type": "markdown",
   "id": "dc7e008e-b508-4c26-9735-1a15b5ba2a44",
   "metadata": {},
   "source": [
    "Terry stops involving subject persons of age group 36-45 lead to arrest 13% of the time which is the highest among all age groups."
   ]
  },
  {
   "cell_type": "markdown",
   "id": "f4238be8-fd71-49b3-b203-6808b9596f3c",
   "metadata": {},
   "source": [
    "## Multivariate"
   ]
  },
  {
   "cell_type": "code",
   "execution_count": 49,
   "id": "053daf08-87bd-41e1-a703-69aaac3d4c55",
   "metadata": {},
   "outputs": [
    {
     "data": {
      "text/html": [
       "<div>\n",
       "<style scoped>\n",
       "    .dataframe tbody tr th:only-of-type {\n",
       "        vertical-align: middle;\n",
       "    }\n",
       "\n",
       "    .dataframe tbody tr th {\n",
       "        vertical-align: top;\n",
       "    }\n",
       "\n",
       "    .dataframe thead tr th {\n",
       "        text-align: left;\n",
       "    }\n",
       "\n",
       "    .dataframe thead tr:last-of-type th {\n",
       "        text-align: right;\n",
       "    }\n",
       "</style>\n",
       "<table border=\"1\" class=\"dataframe\">\n",
       "  <thead>\n",
       "    <tr>\n",
       "      <th>Officer Race</th>\n",
       "      <th colspan=\"8\" halign=\"left\">American Indian or Alaska Native</th>\n",
       "      <th colspan=\"2\" halign=\"left\">Asian</th>\n",
       "      <th>...</th>\n",
       "      <th>Unknown</th>\n",
       "      <th colspan=\"9\" halign=\"left\">White</th>\n",
       "    </tr>\n",
       "    <tr>\n",
       "      <th>Subject Perceived Race</th>\n",
       "      <th>American Indian or Alaska Native</th>\n",
       "      <th>Asian</th>\n",
       "      <th>Black or African American</th>\n",
       "      <th>Hispanic</th>\n",
       "      <th>Multi-Racial</th>\n",
       "      <th>Other</th>\n",
       "      <th>Unknown</th>\n",
       "      <th>White</th>\n",
       "      <th>American Indian or Alaska Native</th>\n",
       "      <th>Asian</th>\n",
       "      <th>...</th>\n",
       "      <th>White</th>\n",
       "      <th>American Indian or Alaska Native</th>\n",
       "      <th>Asian</th>\n",
       "      <th>Black or African American</th>\n",
       "      <th>Hispanic</th>\n",
       "      <th>Multi-Racial</th>\n",
       "      <th>Native Hawaiian or Other Pacific Islander</th>\n",
       "      <th>Other</th>\n",
       "      <th>Unknown</th>\n",
       "      <th>White</th>\n",
       "    </tr>\n",
       "    <tr>\n",
       "      <th>Arrest Flag</th>\n",
       "      <th></th>\n",
       "      <th></th>\n",
       "      <th></th>\n",
       "      <th></th>\n",
       "      <th></th>\n",
       "      <th></th>\n",
       "      <th></th>\n",
       "      <th></th>\n",
       "      <th></th>\n",
       "      <th></th>\n",
       "      <th></th>\n",
       "      <th></th>\n",
       "      <th></th>\n",
       "      <th></th>\n",
       "      <th></th>\n",
       "      <th></th>\n",
       "      <th></th>\n",
       "      <th></th>\n",
       "      <th></th>\n",
       "      <th></th>\n",
       "      <th></th>\n",
       "    </tr>\n",
       "  </thead>\n",
       "  <tbody>\n",
       "    <tr>\n",
       "      <th>N</th>\n",
       "      <td>14</td>\n",
       "      <td>6</td>\n",
       "      <td>92</td>\n",
       "      <td>4</td>\n",
       "      <td>13</td>\n",
       "      <td>1</td>\n",
       "      <td>13</td>\n",
       "      <td>94</td>\n",
       "      <td>74</td>\n",
       "      <td>109</td>\n",
       "      <td>...</td>\n",
       "      <td>6</td>\n",
       "      <td>1117</td>\n",
       "      <td>1339</td>\n",
       "      <td>12091</td>\n",
       "      <td>1220</td>\n",
       "      <td>500</td>\n",
       "      <td>83</td>\n",
       "      <td>92</td>\n",
       "      <td>4019</td>\n",
       "      <td>20385</td>\n",
       "    </tr>\n",
       "    <tr>\n",
       "      <th>Y</th>\n",
       "      <td>0</td>\n",
       "      <td>0</td>\n",
       "      <td>1</td>\n",
       "      <td>0</td>\n",
       "      <td>0</td>\n",
       "      <td>0</td>\n",
       "      <td>0</td>\n",
       "      <td>2</td>\n",
       "      <td>15</td>\n",
       "      <td>27</td>\n",
       "      <td>...</td>\n",
       "      <td>2</td>\n",
       "      <td>125</td>\n",
       "      <td>194</td>\n",
       "      <td>1636</td>\n",
       "      <td>0</td>\n",
       "      <td>0</td>\n",
       "      <td>28</td>\n",
       "      <td>0</td>\n",
       "      <td>466</td>\n",
       "      <td>2328</td>\n",
       "    </tr>\n",
       "  </tbody>\n",
       "</table>\n",
       "<p>2 rows × 74 columns</p>\n",
       "</div>"
      ],
      "text/plain": [
       "Officer Race           American Indian or Alaska Native        \\\n",
       "Subject Perceived Race American Indian or Alaska Native Asian   \n",
       "Arrest Flag                                                     \n",
       "N                                                    14     6   \n",
       "Y                                                     0     0   \n",
       "\n",
       "Officer Race                                                                  \\\n",
       "Subject Perceived Race Black or African American Hispanic Multi-Racial Other   \n",
       "Arrest Flag                                                                    \n",
       "N                                             92        4           13     1   \n",
       "Y                                              1        0            0     0   \n",
       "\n",
       "Officer Race                                                    Asian        \\\n",
       "Subject Perceived Race Unknown White American Indian or Alaska Native Asian   \n",
       "Arrest Flag                                                                   \n",
       "N                           13    94                               74   109   \n",
       "Y                            0     2                               15    27   \n",
       "\n",
       "Officer Race            ... Unknown                            White        \\\n",
       "Subject Perceived Race  ...   White American Indian or Alaska Native Asian   \n",
       "Arrest Flag             ...                                                  \n",
       "N                       ...       6                             1117  1339   \n",
       "Y                       ...       2                              125   194   \n",
       "\n",
       "Officer Race                                                            \\\n",
       "Subject Perceived Race Black or African American Hispanic Multi-Racial   \n",
       "Arrest Flag                                                              \n",
       "N                                          12091     1220          500   \n",
       "Y                                           1636        0            0   \n",
       "\n",
       "Officer Race                                                            \\\n",
       "Subject Perceived Race Native Hawaiian or Other Pacific Islander Other   \n",
       "Arrest Flag                                                              \n",
       "N                                                             83    92   \n",
       "Y                                                             28     0   \n",
       "\n",
       "Officer Race                           \n",
       "Subject Perceived Race Unknown  White  \n",
       "Arrest Flag                            \n",
       "N                         4019  20385  \n",
       "Y                          466   2328  \n",
       "\n",
       "[2 rows x 74 columns]"
      ]
     },
     "execution_count": 49,
     "metadata": {},
     "output_type": "execute_result"
    }
   ],
   "source": [
    "# Analysis of \n",
    "pd.crosstab(df['Arrest Flag'], [df['Officer Race'], df['Subject Perceived Race']])\n"
   ]
  },
  {
   "cell_type": "markdown",
   "id": "fcac6e7b-fbed-4c12-acf7-9b8f20ab0d28",
   "metadata": {},
   "source": [
    "## 3.2: Preprocessing"
   ]
  },
  {
   "cell_type": "code",
   "execution_count": 52,
   "id": "3122b75f-9585-4dfd-8049-01217f1dda90",
   "metadata": {},
   "outputs": [],
   "source": [
    "\n",
    "from sklearn.preprocessing import OneHotEncoder\n",
    "from sklearn.model_selection import train_test_split\n",
    "\n",
    "X = df.drop(columns=['Arrest Flag'])\n",
    "y = df['Arrest Flag']\n",
    "\n",
    "# splitting dataset into train and test sets\n",
    "X_train, X_test, y_train, y_test = train_test_split(X, y, test_size=0.2, random_state=42)\n",
    "\n",
    "# One Hot encoding the Independent features\n",
    "encoder = OneHotEncoder(drop='first', sparse_output=False)\n",
    "X_train_encoded = encoder.fit_transform(X_train)\n",
    "X_test_encoded = encoder.transform(X_test)\n"
   ]
  },
  {
   "cell_type": "markdown",
   "id": "09cff4fd-84dc-4f17-8bc7-7e017ec01898",
   "metadata": {},
   "source": [
    "Used drop='first' to deal with the problem of multicollinearity."
   ]
  },
  {
   "cell_type": "markdown",
   "id": "fc34d6e0-43c0-4949-8c8d-cc3637de99ee",
   "metadata": {},
   "source": [
    "# 4. Modeling"
   ]
  },
  {
   "cell_type": "code",
   "execution_count": 64,
   "id": "5a73f167-a215-4a91-9d44-d52b76b059bd",
   "metadata": {},
   "outputs": [],
   "source": [
    "from sklearn.linear_model import LogisticRegression\n",
    "from sklearn.metrics import confusion_matrix, classification_report\n",
    "from sklearn.tree import DecisionTreeClassifier\n",
    "from sklearn.ensemble import RandomForestClassifier\n",
    "from sklearn.model_selection import RandomizedSearchCV\n",
    "\n",
    "\n",
    "# Training a logistic regression model\n",
    "logmodel = LogisticRegression(penalty='elasticnet', class_weight='balanced', solver='saga', l1_ratio=0.5) # l1_ratio required for elasticnet\n",
    "\n",
    "logmodel.fit(X_train_encoded, y_train)\n",
    "\n",
    "# Making predictions\n",
    "y_pred = logmodel.predict(X_test_encoded)"
   ]
  },
  {
   "cell_type": "code",
   "execution_count": 61,
   "id": "3578ccc9-e8d1-4c04-a953-1d1ab7abcf83",
   "metadata": {},
   "outputs": [],
   "source": [
    "# Training a DecisionTreeClassifier model\n",
    "dt_model = DecisionTreeClassifier(random_state=42, class_weight='balanced', criterion='entropy')\n",
    "\n",
    "dt_model.fit(X_train_encoded, y_train)\n",
    "\n",
    "# Making predictions\n",
    "y_pred_dt = dt_model.predict(X_test_encoded)\n"
   ]
  },
  {
   "cell_type": "code",
   "execution_count": 62,
   "id": "db252739-c4c6-48ab-8311-f93f2a0f6442",
   "metadata": {},
   "outputs": [
    {
     "name": "stdout",
     "output_type": "stream",
     "text": [
      "Classification Report:\n",
      "              precision    recall  f1-score   support\n",
      "\n",
      "           N       0.98      0.90      0.94     11327\n",
      "           Y       0.53      0.87      0.66      1500\n",
      "\n",
      "    accuracy                           0.90     12827\n",
      "   macro avg       0.76      0.89      0.80     12827\n",
      "weighted avg       0.93      0.90      0.91     12827\n",
      "\n"
     ]
    }
   ],
   "source": [
    "class_report = classification_report(y_test, y_pred_dt)\n",
    "print(\"Classification Report:\")\n",
    "print(class_report)"
   ]
  },
  {
   "cell_type": "code",
   "execution_count": 84,
   "id": "4f318a7c-e06b-4a18-b2c2-7a302043fa12",
   "metadata": {},
   "outputs": [
    {
     "data": {
      "text/plain": [
       "array([[9874, 1453],\n",
       "       [   1, 1499]], dtype=int64)"
      ]
     },
     "execution_count": 84,
     "metadata": {},
     "output_type": "execute_result"
    }
   ],
   "source": [
    "# confusion matrix\n",
    "cf = confusion_matrix(y_test, y_pred)\n",
    "cf"
   ]
  },
  {
   "cell_type": "code",
   "execution_count": 54,
   "id": "ff35c196-29e1-4cd0-b809-b791aee11267",
   "metadata": {},
   "outputs": [
    {
     "name": "stdout",
     "output_type": "stream",
     "text": [
      "Classification Report:\n",
      "              precision    recall  f1-score   support\n",
      "\n",
      "           N       1.00      0.87      0.93     11327\n",
      "           Y       0.51      1.00      0.67      1500\n",
      "\n",
      "    accuracy                           0.89     12827\n",
      "   macro avg       0.75      0.94      0.80     12827\n",
      "weighted avg       0.94      0.89      0.90     12827\n",
      "\n"
     ]
    }
   ],
   "source": [
    "class_report = classification_report(y_test, y_pred)\n",
    "print(\"Classification Report:\")\n",
    "print(class_report)"
   ]
  },
  {
   "cell_type": "code",
   "execution_count": 69,
   "id": "8a749cf5-5686-45bb-b904-61dcb96de56d",
   "metadata": {},
   "outputs": [
    {
     "name": "stdout",
     "output_type": "stream",
     "text": [
      "              precision    recall  f1-score   support\n",
      "\n",
      "           N       0.99      0.89      0.94     11327\n",
      "           Y       0.53      0.96      0.68      1500\n",
      "\n",
      "    accuracy                           0.90     12827\n",
      "   macro avg       0.76      0.92      0.81     12827\n",
      "weighted avg       0.94      0.90      0.91     12827\n",
      "\n"
     ]
    }
   ],
   "source": [
    "\n",
    "# Training Random Forest classifier\n",
    "rf_model = RandomForestClassifier(n_estimators=500, \n",
    "                                  max_depth=30, \n",
    "                                  random_state=42, \n",
    "                                  class_weight='balanced_subsample', \n",
    "                                  min_samples_split=10, \n",
    "                                  min_samples_leaf=1, \n",
    "                                  max_features=0.3\n",
    "                                 )\n",
    "rf_model.fit(X_train_encoded, y_train)\n",
    "\n",
    "# Predictions\n",
    "y_pred_rf = rf_model.predict(X_test_encoded)\n"
   ]
  },
  {
   "cell_type": "code",
   "execution_count": 67,
   "id": "8b553b43-a296-4cab-b8e8-bbd059437e89",
   "metadata": {},
   "outputs": [
    {
     "name": "stdout",
     "output_type": "stream",
     "text": [
      "Fitting 3 folds for each of 20 candidates, totalling 60 fits\n",
      "Best parameters {'n_estimators': 500, 'min_samples_split': 10, 'min_samples_leaf': 1, 'max_features': 0.3, 'max_depth': 30, 'class_weight': 'balanced_subsample'}\n",
      "Best score 0.8012188396819738\n"
     ]
    }
   ],
   "source": [
    "# Hyperparameter tuning for our RandomForestClassifier\n",
    "# defining parameter grid\n",
    "dist_params = {\n",
    "     \"class_weight\": [\"balanced\", \"balanced_subsample\"],\n",
    "     \"n_estimators\": [100, 200, 300, 500],\n",
    "     \"max_depth\": [None, 10, 20, 30],\n",
    "     \"min_samples_split\": [2, 5, 10],\n",
    "     \"min_samples_leaf\": [1, 2, 4],\n",
    "     \"max_features\": [\"sqrt\", \"log2\", 0.3, 0.5]\n",
    " }\n",
    "\n",
    "\n",
    "# Randomized Search\n",
    "random_search = RandomizedSearchCV(rf_model, param_distributions=dist_params, n_iter=20, cv=3,verbose=2, n_jobs=-1, scoring=\"f1_macro\")\n",
    "\n",
    "random_search.fit(X_train_encoded, y_train)\n",
    "\n",
    "# The best values for our parameters\n",
    "print(\"Best parameters\", random_search.best_params_)\n",
    "print(\"Best score\", random_search.best_score_)"
   ]
  },
  {
   "cell_type": "code",
   "execution_count": 71,
   "id": "6b4bc437-8559-4e37-b6bd-fec7e9b16906",
   "metadata": {},
   "outputs": [
    {
     "name": "stdout",
     "output_type": "stream",
     "text": [
      "              precision    recall  f1-score   support\n",
      "\n",
      "           N       0.99      0.89      0.94     11327\n",
      "           Y       0.53      0.96      0.68      1500\n",
      "\n",
      "    accuracy                           0.90     12827\n",
      "   macro avg       0.76      0.92      0.81     12827\n",
      "weighted avg       0.94      0.90      0.91     12827\n",
      "\n"
     ]
    }
   ],
   "source": [
    "best_rf_model = random_search.best_estimator_\n",
    "y_pred_rf = best_rf_model.predict(X_test_encoded)\n",
    "\n",
    "print(classification_report(y_test, y_pred_rf))\n"
   ]
  },
  {
   "cell_type": "markdown",
   "id": "b36218b9-1d9f-4798-a2ea-6bc739be1ab2",
   "metadata": {},
   "source": [
    "# 5. Evaluation"
   ]
  },
  {
   "cell_type": "code",
   "execution_count": 86,
   "id": "fb91f571-18e0-4649-bf34-ac98abbcbcad",
   "metadata": {},
   "outputs": [
    {
     "name": "stdout",
     "output_type": "stream",
     "text": [
      "LogisticRegressionClassifier Classification Report\n",
      "              precision    recall  f1-score   support\n",
      "\n",
      "           N       1.00      0.87      0.93     11327\n",
      "           Y       0.51      1.00      0.67      1500\n",
      "\n",
      "    accuracy                           0.89     12827\n",
      "   macro avg       0.75      0.94      0.80     12827\n",
      "weighted avg       0.94      0.89      0.90     12827\n",
      "\n",
      "DecisionTreeClassifier Classification Report\n",
      "              precision    recall  f1-score   support\n",
      "\n",
      "           N       0.98      0.90      0.94     11327\n",
      "           Y       0.53      0.87      0.66      1500\n",
      "\n",
      "    accuracy                           0.90     12827\n",
      "   macro avg       0.76      0.89      0.80     12827\n",
      "weighted avg       0.93      0.90      0.91     12827\n",
      "\n",
      "RandomForestClassifier Classification Report\n",
      "              precision    recall  f1-score   support\n",
      "\n",
      "           N       0.99      0.89      0.94     11327\n",
      "           Y       0.53      0.96      0.68      1500\n",
      "\n",
      "    accuracy                           0.90     12827\n",
      "   macro avg       0.76      0.92      0.81     12827\n",
      "weighted avg       0.94      0.90      0.91     12827\n",
      "\n"
     ]
    }
   ],
   "source": [
    "def Classification_report(y_true, y_pred):\n",
    "    print(classification_report(y_true, y_pred))\n",
    "\n",
    "print(\"LogisticRegressionClassifier Classification Report\")\n",
    "Classification_report(y_test, y_pred)\n",
    "\n",
    "print(\"DecisionTreeClassifier Classification Report\")\n",
    "Classification_report(y_test, y_pred_dt)\n",
    "\n",
    "print(\"RandomForestClassifier Classification Report\")\n",
    "Classification_report(y_test, y_pred_rf)\n"
   ]
  },
  {
   "cell_type": "markdown",
   "id": "78587e47-2cea-40b0-8884-401dce2b45b4",
   "metadata": {},
   "source": [
    "Based on the evaluation metrics our RandomForestClassifier model performed the best with an accuracy of 0.9 having better precision, recall and f1-score metrics for our two classes. Though it performed better than the others the metrics for minority class as compared to the majority class are still not good enough."
   ]
  },
  {
   "cell_type": "markdown",
   "id": "bb8815ac-1475-439a-81f0-fc0715136bd4",
   "metadata": {},
   "source": [
    "# 6. Deployment"
   ]
  },
  {
   "cell_type": "code",
   "execution_count": null,
   "id": "bc009eaf-9919-46d9-a9fa-2830d4542311",
   "metadata": {},
   "outputs": [],
   "source": []
  },
  {
   "cell_type": "code",
   "execution_count": null,
   "id": "df09dfca-4eec-4722-852e-cbf2b453a8e4",
   "metadata": {},
   "outputs": [],
   "source": []
  }
 ],
 "metadata": {
  "kernelspec": {
   "display_name": "Python [conda env:base] *",
   "language": "python",
   "name": "conda-base-py"
  },
  "language_info": {
   "codemirror_mode": {
    "name": "ipython",
    "version": 3
   },
   "file_extension": ".py",
   "mimetype": "text/x-python",
   "name": "python",
   "nbconvert_exporter": "python",
   "pygments_lexer": "ipython3",
   "version": "3.12.7"
  }
 },
 "nbformat": 4,
 "nbformat_minor": 5
}
